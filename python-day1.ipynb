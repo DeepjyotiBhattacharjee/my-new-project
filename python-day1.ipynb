{
 "cells": [
  {
   "cell_type": "code",
   "execution_count": 3,
   "id": "c774c3b4",
   "metadata": {},
   "outputs": [
    {
     "data": {
      "text/plain": [
       "'/Users/deepjyotibhattacharjee/Developer/my-new-project'"
      ]
     },
     "execution_count": 3,
     "metadata": {},
     "output_type": "execute_result"
    }
   ],
   "source": [
    "pwd"
   ]
  },
  {
   "cell_type": "code",
   "execution_count": 4,
   "id": "e8e13174",
   "metadata": {},
   "outputs": [
    {
     "name": "stdout",
     "output_type": "stream",
     "text": [
      "hello world\n"
     ]
    }
   ],
   "source": [
    "print(\"hello world\")"
   ]
  },
  {
   "cell_type": "code",
   "execution_count": 5,
   "id": "0d300ea9",
   "metadata": {},
   "outputs": [],
   "source": [
    "a = 1"
   ]
  },
  {
   "cell_type": "code",
   "execution_count": 6,
   "id": "b5ce3b5d",
   "metadata": {},
   "outputs": [],
   "source": [
    "b = 2"
   ]
  },
  {
   "cell_type": "code",
   "execution_count": 7,
   "id": "437ab874",
   "metadata": {},
   "outputs": [],
   "source": [
    "c = a+b"
   ]
  },
  {
   "cell_type": "code",
   "execution_count": 8,
   "id": "79b269dc",
   "metadata": {},
   "outputs": [
    {
     "data": {
      "text/plain": [
       "3"
      ]
     },
     "execution_count": 8,
     "metadata": {},
     "output_type": "execute_result"
    }
   ],
   "source": [
    "c"
   ]
  },
  {
   "cell_type": "code",
   "execution_count": 9,
   "id": "634cd67b",
   "metadata": {},
   "outputs": [],
   "source": [
    "a,b = 1,2"
   ]
  },
  {
   "cell_type": "code",
   "execution_count": 10,
   "id": "77a0293f",
   "metadata": {},
   "outputs": [],
   "source": [
    "c = a+b"
   ]
  },
  {
   "cell_type": "code",
   "execution_count": 11,
   "id": "eb80d76a",
   "metadata": {},
   "outputs": [
    {
     "data": {
      "text/plain": [
       "3"
      ]
     },
     "execution_count": 11,
     "metadata": {},
     "output_type": "execute_result"
    }
   ],
   "source": [
    "c"
   ]
  },
  {
   "cell_type": "markdown",
   "id": "9842fa08",
   "metadata": {},
   "source": [
    "Data structures of python :-\n",
    "\n",
    "1. List\n",
    "2. Tuple.\n",
    "3. Set,\n",
    "4. Dictionary"
   ]
  },
  {
   "cell_type": "code",
   "execution_count": 12,
   "id": "05801605",
   "metadata": {},
   "outputs": [],
   "source": [
    "# List"
   ]
  },
  {
   "cell_type": "code",
   "execution_count": 13,
   "id": "25ad1997",
   "metadata": {},
   "outputs": [],
   "source": [
    "a = 1"
   ]
  },
  {
   "cell_type": "code",
   "execution_count": 14,
   "id": "0da08c02",
   "metadata": {},
   "outputs": [],
   "source": [
    "a = [1,2,3,4,5,6]"
   ]
  },
  {
   "cell_type": "code",
   "execution_count": 15,
   "id": "c751191c",
   "metadata": {},
   "outputs": [
    {
     "data": {
      "text/plain": [
       "[1, 2, 3, 4, 5, 6]"
      ]
     },
     "execution_count": 15,
     "metadata": {},
     "output_type": "execute_result"
    }
   ],
   "source": [
    "a"
   ]
  },
  {
   "cell_type": "code",
   "execution_count": 16,
   "id": "5ea6c3ea",
   "metadata": {},
   "outputs": [],
   "source": [
    "a = ['deep','ankita','caspy']"
   ]
  },
  {
   "cell_type": "code",
   "execution_count": 17,
   "id": "39f0afd3",
   "metadata": {},
   "outputs": [
    {
     "data": {
      "text/plain": [
       "['deep', 'ankita', 'caspy']"
      ]
     },
     "execution_count": 17,
     "metadata": {},
     "output_type": "execute_result"
    }
   ],
   "source": [
    "a"
   ]
  },
  {
   "cell_type": "code",
   "execution_count": 18,
   "id": "e0d1abcf",
   "metadata": {},
   "outputs": [],
   "source": [
    "a = ['deep','ankita',1,2,3,5,'caspy']"
   ]
  },
  {
   "cell_type": "code",
   "execution_count": 19,
   "id": "542f0a76",
   "metadata": {},
   "outputs": [
    {
     "data": {
      "text/plain": [
       "['deep', 'ankita', 1, 2, 3, 5, 'caspy']"
      ]
     },
     "execution_count": 19,
     "metadata": {},
     "output_type": "execute_result"
    }
   ],
   "source": [
    "a"
   ]
  },
  {
   "cell_type": "code",
   "execution_count": 20,
   "id": "6500f28f",
   "metadata": {},
   "outputs": [
    {
     "data": {
      "text/plain": [
       "['deep', 'ankita', 1, 2, 3, 5, 'caspy']"
      ]
     },
     "execution_count": 20,
     "metadata": {},
     "output_type": "execute_result"
    }
   ],
   "source": [
    "a"
   ]
  },
  {
   "cell_type": "code",
   "execution_count": 21,
   "id": "bc12f9e0",
   "metadata": {},
   "outputs": [
    {
     "data": {
      "text/plain": [
       "'deep'"
      ]
     },
     "execution_count": 21,
     "metadata": {},
     "output_type": "execute_result"
    }
   ],
   "source": [
    "a[0]"
   ]
  },
  {
   "cell_type": "code",
   "execution_count": 22,
   "id": "bc92f8e9",
   "metadata": {},
   "outputs": [
    {
     "data": {
      "text/plain": [
       "2"
      ]
     },
     "execution_count": 22,
     "metadata": {},
     "output_type": "execute_result"
    }
   ],
   "source": [
    "a[3]"
   ]
  },
  {
   "cell_type": "code",
   "execution_count": 23,
   "id": "f784d591",
   "metadata": {},
   "outputs": [
    {
     "data": {
      "text/plain": [
       "'caspy'"
      ]
     },
     "execution_count": 23,
     "metadata": {},
     "output_type": "execute_result"
    }
   ],
   "source": [
    "a[6]"
   ]
  },
  {
   "cell_type": "code",
   "execution_count": 24,
   "id": "9bf83f88",
   "metadata": {},
   "outputs": [
    {
     "data": {
      "text/plain": [
       "7"
      ]
     },
     "execution_count": 24,
     "metadata": {},
     "output_type": "execute_result"
    }
   ],
   "source": [
    "len(a)"
   ]
  },
  {
   "cell_type": "code",
   "execution_count": 25,
   "id": "b784e0fd",
   "metadata": {},
   "outputs": [
    {
     "data": {
      "text/plain": [
       "'caspy'"
      ]
     },
     "execution_count": 25,
     "metadata": {},
     "output_type": "execute_result"
    }
   ],
   "source": [
    "a[-1]"
   ]
  },
  {
   "cell_type": "code",
   "execution_count": 26,
   "id": "b602c013",
   "metadata": {},
   "outputs": [
    {
     "data": {
      "text/plain": [
       "5"
      ]
     },
     "execution_count": 26,
     "metadata": {},
     "output_type": "execute_result"
    }
   ],
   "source": [
    "a[-2]"
   ]
  },
  {
   "cell_type": "code",
   "execution_count": 27,
   "id": "f75126ec",
   "metadata": {},
   "outputs": [
    {
     "data": {
      "text/plain": [
       "3"
      ]
     },
     "execution_count": 27,
     "metadata": {},
     "output_type": "execute_result"
    }
   ],
   "source": [
    "a[-3]"
   ]
  },
  {
   "cell_type": "code",
   "execution_count": 28,
   "id": "25c0e4a8",
   "metadata": {},
   "outputs": [
    {
     "data": {
      "text/plain": [
       "['deep', 'ankita', 1, 2, 3, 5, 'caspy']"
      ]
     },
     "execution_count": 28,
     "metadata": {},
     "output_type": "execute_result"
    }
   ],
   "source": [
    "a"
   ]
  },
  {
   "cell_type": "code",
   "execution_count": 29,
   "id": "20f945cf",
   "metadata": {},
   "outputs": [
    {
     "data": {
      "text/plain": [
       "['ankita', 1, 2, 3, 5, 'caspy']"
      ]
     },
     "execution_count": 29,
     "metadata": {},
     "output_type": "execute_result"
    }
   ],
   "source": [
    "a[1:]"
   ]
  },
  {
   "cell_type": "code",
   "execution_count": 30,
   "id": "ea2b6871",
   "metadata": {},
   "outputs": [
    {
     "data": {
      "text/plain": [
       "['ankita', 1, 2]"
      ]
     },
     "execution_count": 30,
     "metadata": {},
     "output_type": "execute_result"
    }
   ],
   "source": [
    "a[1:4]"
   ]
  },
  {
   "cell_type": "code",
   "execution_count": 31,
   "id": "1f8173ff",
   "metadata": {},
   "outputs": [
    {
     "data": {
      "text/plain": [
       "[3, 5, 'caspy']"
      ]
     },
     "execution_count": 31,
     "metadata": {},
     "output_type": "execute_result"
    }
   ],
   "source": [
    "a[4:]"
   ]
  },
  {
   "cell_type": "code",
   "execution_count": 33,
   "id": "5a16c343",
   "metadata": {},
   "outputs": [
    {
     "data": {
      "text/plain": [
       "['deep', 'ankita', 1, 2, 3, 5, 'caspy']"
      ]
     },
     "execution_count": 33,
     "metadata": {},
     "output_type": "execute_result"
    }
   ],
   "source": [
    "a"
   ]
  },
  {
   "cell_type": "code",
   "execution_count": 34,
   "id": "886e2a0b",
   "metadata": {},
   "outputs": [
    {
     "data": {
      "text/plain": [
       "[3, 5]"
      ]
     },
     "execution_count": 34,
     "metadata": {},
     "output_type": "execute_result"
    }
   ],
   "source": [
    "a[4:-1]"
   ]
  },
  {
   "cell_type": "code",
   "execution_count": 35,
   "id": "6ad00deb",
   "metadata": {},
   "outputs": [
    {
     "data": {
      "text/plain": [
       "['caspy']"
      ]
     },
     "execution_count": 35,
     "metadata": {},
     "output_type": "execute_result"
    }
   ],
   "source": [
    "a[-1:]\n"
   ]
  },
  {
   "cell_type": "code",
   "execution_count": 36,
   "id": "4f344ed1",
   "metadata": {},
   "outputs": [
    {
     "data": {
      "text/plain": [
       "[1, 2, 3, 4, 5, 6, 7, 8, 9]"
      ]
     },
     "execution_count": 36,
     "metadata": {},
     "output_type": "execute_result"
    }
   ],
   "source": [
    "b=[1,2,3,4,5,6,7,8,9]\n",
    "b"
   ]
  },
  {
   "cell_type": "code",
   "execution_count": 37,
   "id": "aec56288",
   "metadata": {},
   "outputs": [
    {
     "data": {
      "text/plain": [
       "[4, 5, 6]"
      ]
     },
     "execution_count": 37,
     "metadata": {},
     "output_type": "execute_result"
    }
   ],
   "source": [
    "b[3:6]"
   ]
  },
  {
   "cell_type": "code",
   "execution_count": 39,
   "id": "5b7b5471",
   "metadata": {},
   "outputs": [
    {
     "data": {
      "text/plain": [
       "[1, 3, 5, 7, 9]"
      ]
     },
     "execution_count": 39,
     "metadata": {},
     "output_type": "execute_result"
    }
   ],
   "source": [
    "b[::2]"
   ]
  },
  {
   "cell_type": "code",
   "execution_count": 40,
   "id": "4b843c26",
   "metadata": {},
   "outputs": [
    {
     "data": {
      "text/plain": [
       "[9, 8, 7, 6, 5, 4, 3, 2, 1]"
      ]
     },
     "execution_count": 40,
     "metadata": {},
     "output_type": "execute_result"
    }
   ],
   "source": [
    "b[::-1]"
   ]
  },
  {
   "cell_type": "code",
   "execution_count": 41,
   "id": "aa43bb8c",
   "metadata": {},
   "outputs": [
    {
     "data": {
      "text/plain": [
       "[9, 7, 5, 3, 1]"
      ]
     },
     "execution_count": 41,
     "metadata": {},
     "output_type": "execute_result"
    }
   ],
   "source": [
    "b[::-2]"
   ]
  },
  {
   "cell_type": "code",
   "execution_count": 42,
   "id": "4fed631f",
   "metadata": {},
   "outputs": [
    {
     "data": {
      "text/plain": [
       "[1, 2, 3, 4, 5, 6, 7, 8, 9]"
      ]
     },
     "execution_count": 42,
     "metadata": {},
     "output_type": "execute_result"
    }
   ],
   "source": [
    "b[:]"
   ]
  },
  {
   "cell_type": "code",
   "execution_count": 49,
   "id": "1be4e285",
   "metadata": {},
   "outputs": [
    {
     "data": {
      "text/plain": [
       "[9, 7, 5, 3, 1]"
      ]
     },
     "execution_count": 49,
     "metadata": {},
     "output_type": "execute_result"
    }
   ],
   "source": [
    "b[::-2]"
   ]
  },
  {
   "cell_type": "code",
   "execution_count": 52,
   "id": "86884789",
   "metadata": {},
   "outputs": [],
   "source": [
    "c=[1,2,3,'a','b',0.5]"
   ]
  },
  {
   "cell_type": "code",
   "execution_count": null,
   "id": "6dd0f996",
   "metadata": {},
   "outputs": [],
   "source": []
  },
  {
   "cell_type": "code",
   "execution_count": 53,
   "id": "219e027b",
   "metadata": {},
   "outputs": [
    {
     "data": {
      "text/plain": [
       "[1, 2, 3, 'a', 'b', 0.5]"
      ]
     },
     "execution_count": 53,
     "metadata": {},
     "output_type": "execute_result"
    }
   ],
   "source": [
    "c"
   ]
  },
  {
   "cell_type": "code",
   "execution_count": 54,
   "id": "d798e06d",
   "metadata": {},
   "outputs": [
    {
     "data": {
      "text/plain": [
       "[0.5, 'b', 'a', 3, 2, 1]"
      ]
     },
     "execution_count": 54,
     "metadata": {},
     "output_type": "execute_result"
    }
   ],
   "source": [
    "c[::-1]"
   ]
  },
  {
   "cell_type": "code",
   "execution_count": 55,
   "id": "95798b4d",
   "metadata": {},
   "outputs": [
    {
     "data": {
      "text/plain": [
       "[1, 2, 3, 'a', 'b', 0.5]"
      ]
     },
     "execution_count": 55,
     "metadata": {},
     "output_type": "execute_result"
    }
   ],
   "source": [
    "c"
   ]
  },
  {
   "cell_type": "code",
   "execution_count": 56,
   "id": "19f3307f",
   "metadata": {},
   "outputs": [
    {
     "data": {
      "text/plain": [
       "[2, 3]"
      ]
     },
     "execution_count": 56,
     "metadata": {},
     "output_type": "execute_result"
    }
   ],
   "source": [
    "c[1:3]"
   ]
  },
  {
   "cell_type": "code",
   "execution_count": 57,
   "id": "90990284",
   "metadata": {},
   "outputs": [
    {
     "data": {
      "text/plain": [
       "[2, 3, 'a']"
      ]
     },
     "execution_count": 57,
     "metadata": {},
     "output_type": "execute_result"
    }
   ],
   "source": [
    "c[1:4]"
   ]
  },
  {
   "cell_type": "code",
   "execution_count": 58,
   "id": "ac9670a2",
   "metadata": {},
   "outputs": [
    {
     "data": {
      "text/plain": [
       "[1, 2, 3, 'a']"
      ]
     },
     "execution_count": 58,
     "metadata": {},
     "output_type": "execute_result"
    }
   ],
   "source": [
    "c[0:4]"
   ]
  },
  {
   "cell_type": "code",
   "execution_count": 59,
   "id": "f9c28b96",
   "metadata": {},
   "outputs": [
    {
     "data": {
      "text/plain": [
       "[1, 'a']"
      ]
     },
     "execution_count": 59,
     "metadata": {},
     "output_type": "execute_result"
    }
   ],
   "source": [
    "c[0::3]"
   ]
  },
  {
   "cell_type": "code",
   "execution_count": 60,
   "id": "3ea7a064",
   "metadata": {},
   "outputs": [
    {
     "data": {
      "text/plain": [
       "['deep', 'ankita', 1, 2, 3, 5, 'caspy']"
      ]
     },
     "execution_count": 60,
     "metadata": {},
     "output_type": "execute_result"
    }
   ],
   "source": [
    "a"
   ]
  },
  {
   "cell_type": "code",
   "execution_count": 61,
   "id": "8d00ec22",
   "metadata": {},
   "outputs": [
    {
     "data": {
      "text/plain": [
       "['deep', 'ankita', 1, 2, 3, 5, 'caspy', 1, 2, 3, 'a', 'b', 0.5]"
      ]
     },
     "execution_count": 61,
     "metadata": {},
     "output_type": "execute_result"
    }
   ],
   "source": [
    "a+c"
   ]
  },
  {
   "cell_type": "code",
   "execution_count": 62,
   "id": "18e8b077",
   "metadata": {},
   "outputs": [
    {
     "data": {
      "text/plain": [
       "['deep', 'ankita', 1, 2, 3, 5, 'caspy']"
      ]
     },
     "execution_count": 62,
     "metadata": {},
     "output_type": "execute_result"
    }
   ],
   "source": [
    "a"
   ]
  },
  {
   "cell_type": "code",
   "execution_count": 63,
   "id": "035888d3",
   "metadata": {},
   "outputs": [
    {
     "data": {
      "text/plain": [
       "[1, 2, 3, 'a', 'b', 0.5]"
      ]
     },
     "execution_count": 63,
     "metadata": {},
     "output_type": "execute_result"
    }
   ],
   "source": [
    "c"
   ]
  },
  {
   "cell_type": "code",
   "execution_count": 65,
   "id": "bb512eda",
   "metadata": {},
   "outputs": [
    {
     "data": {
      "text/plain": [
       "['deep', 'ankita', 1, 2, 3, 5, 'caspy']"
      ]
     },
     "execution_count": 65,
     "metadata": {},
     "output_type": "execute_result"
    }
   ],
   "source": [
    "a"
   ]
  },
  {
   "cell_type": "code",
   "execution_count": 66,
   "id": "6c7cbf63",
   "metadata": {},
   "outputs": [],
   "source": [
    "a[3] = 100"
   ]
  },
  {
   "cell_type": "code",
   "execution_count": 67,
   "id": "ed974633",
   "metadata": {},
   "outputs": [
    {
     "data": {
      "text/plain": [
       "['deep', 'ankita', 1, 100, 3, 5, 'caspy']"
      ]
     },
     "execution_count": 67,
     "metadata": {},
     "output_type": "execute_result"
    }
   ],
   "source": [
    "a"
   ]
  },
  {
   "cell_type": "code",
   "execution_count": 70,
   "id": "a336c630",
   "metadata": {},
   "outputs": [],
   "source": [
    "a.append('tom')"
   ]
  },
  {
   "cell_type": "code",
   "execution_count": 71,
   "id": "3ac3a77e",
   "metadata": {},
   "outputs": [
    {
     "data": {
      "text/plain": [
       "['deep', 'ankita', 1, 100, 3, 5, 'caspy', 'tom']"
      ]
     },
     "execution_count": 71,
     "metadata": {},
     "output_type": "execute_result"
    }
   ],
   "source": [
    "a"
   ]
  },
  {
   "cell_type": "code",
   "execution_count": 72,
   "id": "d9cf3cf9",
   "metadata": {},
   "outputs": [],
   "source": [
    "a.insert(4,200)"
   ]
  },
  {
   "cell_type": "code",
   "execution_count": 73,
   "id": "25543377",
   "metadata": {},
   "outputs": [
    {
     "data": {
      "text/plain": [
       "['deep', 'ankita', 1, 100, 200, 3, 5, 'caspy', 'tom']"
      ]
     },
     "execution_count": 73,
     "metadata": {},
     "output_type": "execute_result"
    }
   ],
   "source": [
    "a"
   ]
  },
  {
   "cell_type": "code",
   "execution_count": 74,
   "id": "639544cc",
   "metadata": {},
   "outputs": [
    {
     "data": {
      "text/plain": [
       "['deep', 'ankita', 1, 100, 200, 3, 5, 'caspy', 'tom']"
      ]
     },
     "execution_count": 74,
     "metadata": {},
     "output_type": "execute_result"
    }
   ],
   "source": [
    "a"
   ]
  },
  {
   "cell_type": "code",
   "execution_count": 75,
   "id": "a31ccfa6",
   "metadata": {},
   "outputs": [],
   "source": [
    "b=[1,2,3,4\n",
    "  ]"
   ]
  },
  {
   "cell_type": "code",
   "execution_count": 76,
   "id": "d425a537",
   "metadata": {},
   "outputs": [
    {
     "data": {
      "text/plain": [
       "[1, 2, 3, 4]"
      ]
     },
     "execution_count": 76,
     "metadata": {},
     "output_type": "execute_result"
    }
   ],
   "source": [
    "b"
   ]
  },
  {
   "cell_type": "code",
   "execution_count": 77,
   "id": "04195da5",
   "metadata": {},
   "outputs": [],
   "source": [
    "b.insert(2,50)"
   ]
  },
  {
   "cell_type": "code",
   "execution_count": 78,
   "id": "08820fd6",
   "metadata": {},
   "outputs": [
    {
     "data": {
      "text/plain": [
       "[1, 2, 50, 3, 4]"
      ]
     },
     "execution_count": 78,
     "metadata": {},
     "output_type": "execute_result"
    }
   ],
   "source": [
    "b"
   ]
  },
  {
   "cell_type": "code",
   "execution_count": 79,
   "id": "d67eee53",
   "metadata": {},
   "outputs": [],
   "source": [
    "b.remove(2)"
   ]
  },
  {
   "cell_type": "code",
   "execution_count": null,
   "id": "0c94625a",
   "metadata": {},
   "outputs": [],
   "source": []
  },
  {
   "cell_type": "code",
   "execution_count": 80,
   "id": "f8092a8f",
   "metadata": {},
   "outputs": [
    {
     "data": {
      "text/plain": [
       "[1, 50, 3, 4]"
      ]
     },
     "execution_count": 80,
     "metadata": {},
     "output_type": "execute_result"
    }
   ],
   "source": [
    "b"
   ]
  },
  {
   "cell_type": "code",
   "execution_count": 81,
   "id": "e64a6b1b",
   "metadata": {},
   "outputs": [],
   "source": [
    "a=[1,2,3,4,5,'anky',\"dj\"]"
   ]
  },
  {
   "cell_type": "code",
   "execution_count": 82,
   "id": "ea5cf0f3",
   "metadata": {},
   "outputs": [
    {
     "data": {
      "text/plain": [
       "[1, 2, 3, 4, 5, 'anky', 'dj']"
      ]
     },
     "execution_count": 82,
     "metadata": {},
     "output_type": "execute_result"
    }
   ],
   "source": [
    "a"
   ]
  },
  {
   "cell_type": "code",
   "execution_count": 83,
   "id": "35b2e2f8",
   "metadata": {},
   "outputs": [],
   "source": [
    "a.append(7)"
   ]
  },
  {
   "cell_type": "code",
   "execution_count": 84,
   "id": "b1506b4a",
   "metadata": {},
   "outputs": [
    {
     "data": {
      "text/plain": [
       "[1, 2, 3, 4, 5, 'anky', 'dj', 7]"
      ]
     },
     "execution_count": 84,
     "metadata": {},
     "output_type": "execute_result"
    }
   ],
   "source": [
    "a"
   ]
  },
  {
   "cell_type": "code",
   "execution_count": 86,
   "id": "5f2a110f",
   "metadata": {},
   "outputs": [],
   "source": [
    "a.insert(3,109090909)"
   ]
  },
  {
   "cell_type": "code",
   "execution_count": 87,
   "id": "38281829",
   "metadata": {},
   "outputs": [
    {
     "data": {
      "text/plain": [
       "[1, 2, 3, 109090909, 4, 5, 'anky', 'dj', 7]"
      ]
     },
     "execution_count": 87,
     "metadata": {},
     "output_type": "execute_result"
    }
   ],
   "source": [
    "a"
   ]
  },
  {
   "cell_type": "code",
   "execution_count": 88,
   "id": "60955f6b",
   "metadata": {},
   "outputs": [
    {
     "data": {
      "text/plain": [
       "[1, 2, 3, 109090909, 4, 5, 'anky', 'dj', 7]"
      ]
     },
     "execution_count": 88,
     "metadata": {},
     "output_type": "execute_result"
    }
   ],
   "source": [
    "a"
   ]
  },
  {
   "cell_type": "code",
   "execution_count": 89,
   "id": "66f05511",
   "metadata": {},
   "outputs": [
    {
     "data": {
      "text/plain": [
       "7"
      ]
     },
     "execution_count": 89,
     "metadata": {},
     "output_type": "execute_result"
    }
   ],
   "source": [
    "a.pop()"
   ]
  },
  {
   "cell_type": "code",
   "execution_count": 90,
   "id": "7f6b7d8c",
   "metadata": {},
   "outputs": [
    {
     "data": {
      "text/plain": [
       "[1, 2, 3, 109090909, 4, 5, 'anky', 'dj']"
      ]
     },
     "execution_count": 90,
     "metadata": {},
     "output_type": "execute_result"
    }
   ],
   "source": [
    "a"
   ]
  },
  {
   "cell_type": "code",
   "execution_count": 91,
   "id": "452ec9b8",
   "metadata": {},
   "outputs": [],
   "source": [
    "x=a.pop()"
   ]
  },
  {
   "cell_type": "code",
   "execution_count": 92,
   "id": "34521258",
   "metadata": {},
   "outputs": [
    {
     "data": {
      "text/plain": [
       "'dj'"
      ]
     },
     "execution_count": 92,
     "metadata": {},
     "output_type": "execute_result"
    }
   ],
   "source": [
    "x"
   ]
  },
  {
   "cell_type": "code",
   "execution_count": 93,
   "id": "d08dbd84",
   "metadata": {},
   "outputs": [
    {
     "data": {
      "text/plain": [
       "[1, 2, 3, 109090909, 4, 5, 'anky']"
      ]
     },
     "execution_count": 93,
     "metadata": {},
     "output_type": "execute_result"
    }
   ],
   "source": [
    "a"
   ]
  },
  {
   "cell_type": "code",
   "execution_count": 94,
   "id": "12de8640",
   "metadata": {},
   "outputs": [
    {
     "data": {
      "text/plain": [
       "2"
      ]
     },
     "execution_count": 94,
     "metadata": {},
     "output_type": "execute_result"
    }
   ],
   "source": [
    "a.pop(1)"
   ]
  },
  {
   "cell_type": "code",
   "execution_count": 95,
   "id": "8786c6fc",
   "metadata": {},
   "outputs": [
    {
     "data": {
      "text/plain": [
       "[1, 3, 109090909, 4, 5, 'anky']"
      ]
     },
     "execution_count": 95,
     "metadata": {},
     "output_type": "execute_result"
    }
   ],
   "source": [
    "a"
   ]
  },
  {
   "cell_type": "code",
   "execution_count": 97,
   "id": "d2439a39",
   "metadata": {},
   "outputs": [],
   "source": [
    "x = ['a','b','c','d',1,2,3,4,5,'deep']"
   ]
  },
  {
   "cell_type": "code",
   "execution_count": 98,
   "id": "579ded15",
   "metadata": {},
   "outputs": [
    {
     "data": {
      "text/plain": [
       "['a', 'b', 'c', 'd', 1, 2, 3, 4, 5, 'deep']"
      ]
     },
     "execution_count": 98,
     "metadata": {},
     "output_type": "execute_result"
    }
   ],
   "source": [
    "x"
   ]
  },
  {
   "cell_type": "code",
   "execution_count": 100,
   "id": "262290ba",
   "metadata": {},
   "outputs": [],
   "source": [
    "x.remove('d')"
   ]
  },
  {
   "cell_type": "code",
   "execution_count": 101,
   "id": "d191c8e1",
   "metadata": {},
   "outputs": [
    {
     "data": {
      "text/plain": [
       "['a', 'b', 'c', 1, 2, 3, 4, 5, 'deep']"
      ]
     },
     "execution_count": 101,
     "metadata": {},
     "output_type": "execute_result"
    }
   ],
   "source": [
    "x"
   ]
  },
  {
   "cell_type": "code",
   "execution_count": 102,
   "id": "17ee49d6",
   "metadata": {},
   "outputs": [],
   "source": [
    "x = [1,1,'a','b','c','d','a',2,3]"
   ]
  },
  {
   "cell_type": "code",
   "execution_count": 103,
   "id": "4c8f3336",
   "metadata": {},
   "outputs": [],
   "source": [
    "x.remove('a')"
   ]
  },
  {
   "cell_type": "code",
   "execution_count": 104,
   "id": "aba4e212",
   "metadata": {},
   "outputs": [
    {
     "data": {
      "text/plain": [
       "[1, 1, 'b', 'c', 'd', 'a', 2, 3]"
      ]
     },
     "execution_count": 104,
     "metadata": {},
     "output_type": "execute_result"
    }
   ],
   "source": [
    "x"
   ]
  },
  {
   "cell_type": "code",
   "execution_count": 109,
   "id": "cca39989",
   "metadata": {},
   "outputs": [
    {
     "data": {
      "text/plain": [
       "[5, 6, 1, 2, 6, 9]"
      ]
     },
     "execution_count": 109,
     "metadata": {},
     "output_type": "execute_result"
    }
   ],
   "source": [
    "y = [5,6,1,2,6,9]\n",
    "y"
   ]
  },
  {
   "cell_type": "code",
   "execution_count": 106,
   "id": "704a1e82",
   "metadata": {},
   "outputs": [],
   "source": [
    "y.sort()"
   ]
  },
  {
   "cell_type": "code",
   "execution_count": 107,
   "id": "ffff81d1",
   "metadata": {},
   "outputs": [
    {
     "data": {
      "text/plain": [
       "[1, 2, 5, 6, 6, 9]"
      ]
     },
     "execution_count": 107,
     "metadata": {},
     "output_type": "execute_result"
    }
   ],
   "source": [
    "y"
   ]
  },
  {
   "cell_type": "code",
   "execution_count": 108,
   "id": "dfd153c9",
   "metadata": {},
   "outputs": [
    {
     "data": {
      "text/plain": [
       "[1, 2, 5, 6, 6, 9]"
      ]
     },
     "execution_count": 108,
     "metadata": {},
     "output_type": "execute_result"
    }
   ],
   "source": [
    "sorted(y)"
   ]
  },
  {
   "cell_type": "code",
   "execution_count": 113,
   "id": "83ba1df7",
   "metadata": {},
   "outputs": [],
   "source": [
    "d = ['deep','ankita','caspy','ball',1,2,3,4]"
   ]
  },
  {
   "cell_type": "code",
   "execution_count": 114,
   "id": "eccc6693",
   "metadata": {},
   "outputs": [
    {
     "ename": "TypeError",
     "evalue": "'<' not supported between instances of 'int' and 'str'",
     "output_type": "error",
     "traceback": [
      "\u001b[0;31m---------------------------------------------------------------------------\u001b[0m",
      "\u001b[0;31mTypeError\u001b[0m                                 Traceback (most recent call last)",
      "Cell \u001b[0;32mIn[114], line 1\u001b[0m\n\u001b[0;32m----> 1\u001b[0m d\u001b[38;5;241m.\u001b[39msort()\n",
      "\u001b[0;31mTypeError\u001b[0m: '<' not supported between instances of 'int' and 'str'"
     ]
    }
   ],
   "source": [
    "d.sort()"
   ]
  },
  {
   "cell_type": "code",
   "execution_count": 112,
   "id": "bfc26802",
   "metadata": {},
   "outputs": [
    {
     "data": {
      "text/plain": [
       "['ankita', 'ball', 'caspy', 'deep']"
      ]
     },
     "execution_count": 112,
     "metadata": {},
     "output_type": "execute_result"
    }
   ],
   "source": [
    "d"
   ]
  },
  {
   "cell_type": "code",
   "execution_count": 119,
   "id": "2e01e8e9",
   "metadata": {},
   "outputs": [
    {
     "data": {
      "text/plain": [
       "[5, 6, 1, 2, 6, 9]"
      ]
     },
     "execution_count": 119,
     "metadata": {},
     "output_type": "execute_result"
    }
   ],
   "source": [
    "y = [5, 6, 1, 2, 6, 9]\n",
    "y"
   ]
  },
  {
   "cell_type": "code",
   "execution_count": 117,
   "id": "144c7417",
   "metadata": {},
   "outputs": [],
   "source": [
    "y.sort()"
   ]
  },
  {
   "cell_type": "code",
   "execution_count": 118,
   "id": "0722fe71",
   "metadata": {},
   "outputs": [
    {
     "data": {
      "text/plain": [
       "[1, 2, 5, 6, 6, 9]"
      ]
     },
     "execution_count": 118,
     "metadata": {},
     "output_type": "execute_result"
    }
   ],
   "source": [
    "y"
   ]
  },
  {
   "cell_type": "code",
   "execution_count": 120,
   "id": "adf2b4d2",
   "metadata": {},
   "outputs": [
    {
     "data": {
      "text/plain": [
       "[5, 6, 1, 2, 6, 9]"
      ]
     },
     "execution_count": 120,
     "metadata": {},
     "output_type": "execute_result"
    }
   ],
   "source": [
    "y"
   ]
  },
  {
   "cell_type": "code",
   "execution_count": 121,
   "id": "d765185d",
   "metadata": {},
   "outputs": [],
   "source": [
    "y.sort(reverse=True)"
   ]
  },
  {
   "cell_type": "code",
   "execution_count": 122,
   "id": "b3a68589",
   "metadata": {},
   "outputs": [
    {
     "data": {
      "text/plain": [
       "[9, 6, 6, 5, 2, 1]"
      ]
     },
     "execution_count": 122,
     "metadata": {},
     "output_type": "execute_result"
    }
   ],
   "source": [
    "y"
   ]
  },
  {
   "cell_type": "code",
   "execution_count": 127,
   "id": "3bbd7669",
   "metadata": {},
   "outputs": [
    {
     "data": {
      "text/plain": [
       "[9, 6, 6, 5, 2, 1]"
      ]
     },
     "execution_count": 127,
     "metadata": {},
     "output_type": "execute_result"
    }
   ],
   "source": [
    "y"
   ]
  },
  {
   "cell_type": "code",
   "execution_count": 128,
   "id": "78c2e3d2",
   "metadata": {},
   "outputs": [
    {
     "data": {
      "text/plain": [
       "[1, 2, 5, 6, 6, 9]"
      ]
     },
     "execution_count": 128,
     "metadata": {},
     "output_type": "execute_result"
    }
   ],
   "source": [
    "sorted(y)"
   ]
  },
  {
   "cell_type": "code",
   "execution_count": 129,
   "id": "a05fb56f",
   "metadata": {},
   "outputs": [
    {
     "data": {
      "text/plain": [
       "[9, 6, 6, 5, 2, 1]"
      ]
     },
     "execution_count": 129,
     "metadata": {},
     "output_type": "execute_result"
    }
   ],
   "source": [
    "y"
   ]
  },
  {
   "cell_type": "code",
   "execution_count": 130,
   "id": "bdf0cdb8",
   "metadata": {},
   "outputs": [],
   "source": [
    "a1 = ['a','b','c','d']\n",
    "a2 = [1,2]"
   ]
  },
  {
   "cell_type": "code",
   "execution_count": 131,
   "id": "c767c92f",
   "metadata": {},
   "outputs": [],
   "source": [
    "a1.append('e')"
   ]
  },
  {
   "cell_type": "code",
   "execution_count": 132,
   "id": "3c8a4d1a",
   "metadata": {},
   "outputs": [
    {
     "data": {
      "text/plain": [
       "['a', 'b', 'c', 'd', 'e']"
      ]
     },
     "execution_count": 132,
     "metadata": {},
     "output_type": "execute_result"
    }
   ],
   "source": [
    "a1"
   ]
  },
  {
   "cell_type": "code",
   "execution_count": 133,
   "id": "d36a4b03",
   "metadata": {},
   "outputs": [],
   "source": [
    "a1.append(99)"
   ]
  },
  {
   "cell_type": "code",
   "execution_count": 134,
   "id": "aea5a1d0",
   "metadata": {},
   "outputs": [
    {
     "data": {
      "text/plain": [
       "['a', 'b', 'c', 'd', 'e', 99]"
      ]
     },
     "execution_count": 134,
     "metadata": {},
     "output_type": "execute_result"
    }
   ],
   "source": [
    "a1"
   ]
  },
  {
   "cell_type": "code",
   "execution_count": 135,
   "id": "e06abf0d",
   "metadata": {},
   "outputs": [],
   "source": [
    "a1.append(a2)"
   ]
  },
  {
   "cell_type": "code",
   "execution_count": 136,
   "id": "b3f29cd9",
   "metadata": {},
   "outputs": [
    {
     "data": {
      "text/plain": [
       "['a', 'b', 'c', 'd', 'e', 99, [1, 2]]"
      ]
     },
     "execution_count": 136,
     "metadata": {},
     "output_type": "execute_result"
    }
   ],
   "source": [
    "a1"
   ]
  },
  {
   "cell_type": "code",
   "execution_count": 137,
   "id": "25aaaaf5",
   "metadata": {},
   "outputs": [],
   "source": [
    "a1.extend(a2)"
   ]
  },
  {
   "cell_type": "code",
   "execution_count": 138,
   "id": "b8c6616f",
   "metadata": {},
   "outputs": [
    {
     "data": {
      "text/plain": [
       "['a', 'b', 'c', 'd', 'e', 99, [1, 2], 1, 2]"
      ]
     },
     "execution_count": 138,
     "metadata": {},
     "output_type": "execute_result"
    }
   ],
   "source": [
    "a1"
   ]
  },
  {
   "cell_type": "code",
   "execution_count": 139,
   "id": "9fcc8f9b",
   "metadata": {},
   "outputs": [],
   "source": [
    "a3 = (88,99,11)"
   ]
  },
  {
   "cell_type": "code",
   "execution_count": 140,
   "id": "9e06b436",
   "metadata": {},
   "outputs": [],
   "source": [
    "a1.append(a3)"
   ]
  },
  {
   "cell_type": "code",
   "execution_count": 141,
   "id": "2275df51",
   "metadata": {},
   "outputs": [
    {
     "data": {
      "text/plain": [
       "['a', 'b', 'c', 'd', 'e', 99, [1, 2], 1, 2, (88, 99, 11)]"
      ]
     },
     "execution_count": 141,
     "metadata": {},
     "output_type": "execute_result"
    }
   ],
   "source": [
    "a1"
   ]
  },
  {
   "cell_type": "code",
   "execution_count": 142,
   "id": "1182003a",
   "metadata": {},
   "outputs": [
    {
     "data": {
      "text/plain": [
       "(88, 99, 11)"
      ]
     },
     "execution_count": 142,
     "metadata": {},
     "output_type": "execute_result"
    }
   ],
   "source": [
    "a1.pop()"
   ]
  },
  {
   "cell_type": "code",
   "execution_count": 143,
   "id": "e85f45eb",
   "metadata": {},
   "outputs": [
    {
     "data": {
      "text/plain": [
       "['a', 'b', 'c', 'd', 'e', 99, [1, 2], 1, 2]"
      ]
     },
     "execution_count": 143,
     "metadata": {},
     "output_type": "execute_result"
    }
   ],
   "source": [
    "a1"
   ]
  },
  {
   "cell_type": "code",
   "execution_count": 144,
   "id": "9abe38be",
   "metadata": {},
   "outputs": [],
   "source": [
    "a1.extend(a3)"
   ]
  },
  {
   "cell_type": "code",
   "execution_count": 145,
   "id": "0b9c0207",
   "metadata": {},
   "outputs": [
    {
     "data": {
      "text/plain": [
       "['a', 'b', 'c', 'd', 'e', 99, [1, 2], 1, 2, 88, 99, 11]"
      ]
     },
     "execution_count": 145,
     "metadata": {},
     "output_type": "execute_result"
    }
   ],
   "source": [
    "a1"
   ]
  },
  {
   "cell_type": "code",
   "execution_count": 146,
   "id": "62a910ce",
   "metadata": {},
   "outputs": [],
   "source": [
    "t = (1,2,'a')"
   ]
  },
  {
   "cell_type": "code",
   "execution_count": 147,
   "id": "424ba188",
   "metadata": {},
   "outputs": [],
   "source": [
    "l = [1,2,'a']"
   ]
  },
  {
   "cell_type": "code",
   "execution_count": 148,
   "id": "a81ed431",
   "metadata": {},
   "outputs": [],
   "source": [
    "l[-1] = 'x'"
   ]
  },
  {
   "cell_type": "code",
   "execution_count": 149,
   "id": "4d1e45ea",
   "metadata": {},
   "outputs": [
    {
     "data": {
      "text/plain": [
       "[1, 2, 'x']"
      ]
     },
     "execution_count": 149,
     "metadata": {},
     "output_type": "execute_result"
    }
   ],
   "source": [
    "l"
   ]
  },
  {
   "cell_type": "code",
   "execution_count": 150,
   "id": "5e849ad2",
   "metadata": {},
   "outputs": [
    {
     "data": {
      "text/plain": [
       "(1, 2, 'a')"
      ]
     },
     "execution_count": 150,
     "metadata": {},
     "output_type": "execute_result"
    }
   ],
   "source": [
    "t"
   ]
  },
  {
   "cell_type": "code",
   "execution_count": 152,
   "id": "c6d15d35",
   "metadata": {},
   "outputs": [
    {
     "data": {
      "text/plain": [
       "list"
      ]
     },
     "execution_count": 152,
     "metadata": {},
     "output_type": "execute_result"
    }
   ],
   "source": [
    "type(l)"
   ]
  },
  {
   "cell_type": "code",
   "execution_count": 153,
   "id": "05e2e961",
   "metadata": {},
   "outputs": [
    {
     "data": {
      "text/plain": [
       "tuple"
      ]
     },
     "execution_count": 153,
     "metadata": {},
     "output_type": "execute_result"
    }
   ],
   "source": [
    "type(t)"
   ]
  },
  {
   "cell_type": "code",
   "execution_count": 154,
   "id": "f855e565",
   "metadata": {},
   "outputs": [
    {
     "data": {
      "text/plain": [
       "str"
      ]
     },
     "execution_count": 154,
     "metadata": {},
     "output_type": "execute_result"
    }
   ],
   "source": [
    "type('a')"
   ]
  },
  {
   "cell_type": "code",
   "execution_count": 155,
   "id": "50c1cd36",
   "metadata": {},
   "outputs": [
    {
     "data": {
      "text/plain": [
       "int"
      ]
     },
     "execution_count": 155,
     "metadata": {},
     "output_type": "execute_result"
    }
   ],
   "source": [
    "type(1)"
   ]
  },
  {
   "cell_type": "code",
   "execution_count": 156,
   "id": "15beb47c",
   "metadata": {},
   "outputs": [
    {
     "data": {
      "text/plain": [
       "float"
      ]
     },
     "execution_count": 156,
     "metadata": {},
     "output_type": "execute_result"
    }
   ],
   "source": [
    "type(1.3)"
   ]
  },
  {
   "cell_type": "code",
   "execution_count": 157,
   "id": "ffe6ab43",
   "metadata": {},
   "outputs": [
    {
     "data": {
      "text/plain": [
       "tuple"
      ]
     },
     "execution_count": 157,
     "metadata": {},
     "output_type": "execute_result"
    }
   ],
   "source": [
    "type(t)"
   ]
  },
  {
   "cell_type": "code",
   "execution_count": 158,
   "id": "ba02155f",
   "metadata": {},
   "outputs": [
    {
     "data": {
      "text/plain": [
       "(1, 2, 'a')"
      ]
     },
     "execution_count": 158,
     "metadata": {},
     "output_type": "execute_result"
    }
   ],
   "source": [
    "t"
   ]
  },
  {
   "cell_type": "code",
   "execution_count": 163,
   "id": "c6df5d9a",
   "metadata": {},
   "outputs": [],
   "source": [
    "t1 = (1,2,3,3,4,5,6,6,6,7)"
   ]
  },
  {
   "cell_type": "code",
   "execution_count": 165,
   "id": "4ecf20b1",
   "metadata": {},
   "outputs": [
    {
     "data": {
      "text/plain": [
       "3"
      ]
     },
     "execution_count": 165,
     "metadata": {},
     "output_type": "execute_result"
    }
   ],
   "source": [
    "t1.count(6)"
   ]
  },
  {
   "cell_type": "code",
   "execution_count": 166,
   "id": "e784435c",
   "metadata": {},
   "outputs": [],
   "source": [
    "t2 = (1,2,4,5,5,5,2,7)"
   ]
  },
  {
   "cell_type": "code",
   "execution_count": 168,
   "id": "de82c1da",
   "metadata": {},
   "outputs": [
    {
     "data": {
      "text/plain": [
       "3"
      ]
     },
     "execution_count": 168,
     "metadata": {},
     "output_type": "execute_result"
    }
   ],
   "source": [
    "t2.index(5)"
   ]
  },
  {
   "cell_type": "code",
   "execution_count": null,
   "id": "3ab67e71",
   "metadata": {},
   "outputs": [],
   "source": []
  }
 ],
 "metadata": {
  "kernelspec": {
   "display_name": "Python 3 (ipykernel)",
   "language": "python",
   "name": "python3"
  },
  "language_info": {
   "codemirror_mode": {
    "name": "ipython",
    "version": 3
   },
   "file_extension": ".py",
   "mimetype": "text/x-python",
   "name": "python",
   "nbconvert_exporter": "python",
   "pygments_lexer": "ipython3",
   "version": "3.11.3"
  }
 },
 "nbformat": 4,
 "nbformat_minor": 5
}
